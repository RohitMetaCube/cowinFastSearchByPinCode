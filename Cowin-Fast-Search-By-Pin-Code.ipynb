{
 "cells": [
  {
   "cell_type": "code",
   "execution_count": null,
   "id": "continental-scholar",
   "metadata": {},
   "outputs": [],
   "source": [
    "pin_code = 201301\n",
    "\n",
    "import pandas as pd\n",
    "import datetime\n",
    "import requests\n",
    "import webbrowser\n",
    "from time import sleep\n",
    "from pandas.io.json import json_normalize\n",
    "from IPython.display import display, HTML\n",
    "\n",
    "youtube_alert = 'https://www.youtube.com/watch?v=io-oreIAuTM&ab_channel=MinistryofHealth%26FamilyWelfare'\n",
    "cowin ='https://selfregistration.cowin.gov.in/'\n",
    "headers = {'User-Agent': 'Mozilla/5.0 (Windows NT 6.1; WOW64) AppleWebKit/537.36 (KHTML, like Gecko) Chrome/56.0.2924.76 Safari/537.36'}"
   ]
  },
  {
   "cell_type": "code",
   "execution_count": null,
   "id": "e90c8dfb",
   "metadata": {},
   "outputs": [],
   "source": [
    "def get_data(pincode, date):\n",
    "    try:\n",
    "        data = requests.get(f\"https://cdn-api.co-vin.in/api/v2/appointment/sessions/public/calendarByPin?pincode={pincode}&date={date}\", headers=headers).json()\n",
    "        df = pd.json_normalize(data=data['centers'], record_path='sessions', meta=['name','address','district_name','pincode'],errors='ignore')\n",
    "    except:\n",
    "        print('Link not working - Exception Found - auto-wait for 60 seconds to check again')\n",
    "        sleep(60)\n",
    "        df = pd.DataFrame()\n",
    "    \n",
    "    return df"
   ]
  },
  {
   "cell_type": "code",
   "execution_count": null,
   "id": "fbf97bf8",
   "metadata": {},
   "outputs": [],
   "source": [
    "def check_availability(pin_code, age_limit=18, minimum_availability = 1):\n",
    "    \n",
    "    date = datetime.datetime.today().strftime('%d-%m-%Y')\n",
    "    df = get_data(pin_code, date)\n",
    "    if df.shape[0] > 0:\n",
    "        df.drop(columns=['session_id','slots'], axis=1, inplace=True)\n",
    "        df.date = pd.to_datetime(df.date, format='%d-%m-%Y')\n",
    "        available = df[(df.min_age_limit == age_limit) & (df.available_capacity >= minimum_availability)].sort_values(by=['date','available_capacity']).reset_index(drop=True)\n",
    "        return available\n",
    "    \n",
    "    else: return pd.DataFrame()"
   ]
  },
  {
   "cell_type": "code",
   "execution_count": null,
   "id": "disabled-ordinance",
   "metadata": {
    "scrolled": false
   },
   "outputs": [],
   "source": [
    "i = 1\n",
    "\n",
    "while 1:\n",
    "    \n",
    "    time_now = datetime.datetime.now().strftime('%H:%M:%S')\n",
    "    df_available = check_availability(pin_code)\n",
    "    \n",
    "    if (df_available.shape[0] > 0):\n",
    "        webbrowser.open(cowin, new=2)\n",
    "        webbrowser.open(youtube_alert, new=2)\n",
    "        print(time_now)\n",
    "        display(df_available)\n",
    "        sleep(300)    #in seconds\n",
    "#         break\n",
    "    else:\n",
    "        if i%100 == 0:\n",
    "            print(f'Checking.... {i} at {time_now}')\n",
    "        i = i + 1\n",
    "        sleep(3)    #in seconds"
   ]
  }
 ],
 "metadata": {
  "kernelspec": {
   "display_name": "Python 3",
   "language": "python",
   "name": "python3"
  },
  "language_info": {
   "codemirror_mode": {
    "name": "ipython",
    "version": 3
   },
   "file_extension": ".py",
   "mimetype": "text/x-python",
   "name": "python",
   "nbconvert_exporter": "python",
   "pygments_lexer": "ipython3",
   "version": "3.8.8"
  }
 },
 "nbformat": 4,
 "nbformat_minor": 5
}
